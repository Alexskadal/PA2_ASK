{
 "cells": [
  {
   "cell_type": "markdown",
   "id": "694d6b71",
   "metadata": {},
   "source": [
    "# Assignment 3, Alexander Kyrkjeeide, Version 1, Spring 2023"
   ]
  },
  {
   "cell_type": "markdown",
   "id": "0abddf17",
   "metadata": {},
   "source": [
    "## A)"
   ]
  },
  {
   "cell_type": "markdown",
   "id": "11740cfe",
   "metadata": {},
   "source": [
    "## The append() places new items in the available space. A created list are sequences that can hold various data types and objects, so you can utilize append() to add any new object to your given list. Example:"
   ]
  },
  {
   "cell_type": "code",
   "execution_count": 1,
   "id": "b21f24d2",
   "metadata": {},
   "outputs": [
    {
     "name": "stdout",
     "output_type": "stream",
     "text": [
      "[5, 6, 7, 8, 9, 10]\n"
     ]
    }
   ],
   "source": [
    "numbers = [5,6,7,8,9,10]\n",
    "print(numbers)"
   ]
  },
  {
   "cell_type": "code",
   "execution_count": 2,
   "id": "1db4108f",
   "metadata": {},
   "outputs": [
    {
     "data": {
      "text/plain": [
       "[5, 6, 7, 8, 9, 10, 11]"
      ]
     },
     "execution_count": 2,
     "metadata": {},
     "output_type": "execute_result"
    }
   ],
   "source": [
    "numbers.append(11)\n",
    "numbers"
   ]
  },
  {
   "cell_type": "markdown",
   "id": "48a90a93",
   "metadata": {},
   "source": [
    "## The extend() adds all elements of an of an iterable (list, string, tuple etc.) to the end of the list. Example: "
   ]
  },
  {
   "cell_type": "code",
   "execution_count": 3,
   "id": "21dee1b2",
   "metadata": {},
   "outputs": [],
   "source": [
    "# Create a list \n",
    "number_1=[1,3,5]"
   ]
  },
  {
   "cell_type": "code",
   "execution_count": 4,
   "id": "2fabb910",
   "metadata": {},
   "outputs": [],
   "source": [
    "# Create another list\n",
    "number_2=[2,6]"
   ]
  },
  {
   "cell_type": "code",
   "execution_count": 5,
   "id": "9715f89d",
   "metadata": {},
   "outputs": [],
   "source": [
    "# Add all the elements of number_1 to number_2\n",
    "number_2.extend(number_1)"
   ]
  },
  {
   "cell_type": "code",
   "execution_count": 6,
   "id": "08e8e139",
   "metadata": {},
   "outputs": [
    {
     "name": "stdout",
     "output_type": "stream",
     "text": [
      "List after extend(): [2, 6, 1, 3, 5]\n"
     ]
    }
   ],
   "source": [
    "print('List after extend():', number_2)"
   ]
  },
  {
   "cell_type": "markdown",
   "id": "fd69ae12",
   "metadata": {},
   "source": [
    "## The insert() adds an element to a specific position in a list. Example: "
   ]
  },
  {
   "cell_type": "code",
   "execution_count": 7,
   "id": "c06e8566",
   "metadata": {},
   "outputs": [
    {
     "data": {
      "text/plain": [
       "[2, 6, 1, 3, 5]"
      ]
     },
     "execution_count": 7,
     "metadata": {},
     "output_type": "execute_result"
    }
   ],
   "source": [
    "number_2"
   ]
  },
  {
   "cell_type": "code",
   "execution_count": 8,
   "id": "60c095fe",
   "metadata": {},
   "outputs": [
    {
     "data": {
      "text/plain": [
       "[2, 6, 1, 3, 7, 5]"
      ]
     },
     "execution_count": 8,
     "metadata": {},
     "output_type": "execute_result"
    }
   ],
   "source": [
    "number_2.insert(-1, 7)\n",
    "number_2"
   ]
  },
  {
   "cell_type": "markdown",
   "id": "daaeca98",
   "metadata": {},
   "source": [
    "## The remove() removes an element from the list. Example: "
   ]
  },
  {
   "cell_type": "code",
   "execution_count": 9,
   "id": "dcf44933",
   "metadata": {},
   "outputs": [
    {
     "data": {
      "text/plain": [
       "[2, 6, 1, 7, 5]"
      ]
     },
     "execution_count": 9,
     "metadata": {},
     "output_type": "execute_result"
    }
   ],
   "source": [
    "number_2.remove(3)\n",
    "number_2"
   ]
  },
  {
   "cell_type": "markdown",
   "id": "eb701c83",
   "metadata": {},
   "source": [
    "## The count() returns the number of times a specified value appears in a list. Example:"
   ]
  },
  {
   "cell_type": "code",
   "execution_count": 10,
   "id": "709b8c7c",
   "metadata": {},
   "outputs": [],
   "source": [
    "Letters=[\"b\", \"c\", \"c\", \"d\", \"a\", \"c\", \"a\"]"
   ]
  },
  {
   "cell_type": "code",
   "execution_count": 11,
   "id": "0743009b",
   "metadata": {},
   "outputs": [
    {
     "name": "stdout",
     "output_type": "stream",
     "text": [
      "3\n"
     ]
    }
   ],
   "source": [
    "print(Letters.count(\"c\"))"
   ]
  },
  {
   "cell_type": "markdown",
   "id": "94e4f2d2",
   "metadata": {},
   "source": [
    "## The index() selects the sequential element in a string of characters or a list of items. Example: "
   ]
  },
  {
   "cell_type": "code",
   "execution_count": 12,
   "id": "59cdd785",
   "metadata": {},
   "outputs": [
    {
     "data": {
      "text/plain": [
       "[2, 6, 1, 7, 5]"
      ]
     },
     "execution_count": 12,
     "metadata": {},
     "output_type": "execute_result"
    }
   ],
   "source": [
    "number_2"
   ]
  },
  {
   "cell_type": "code",
   "execution_count": 13,
   "id": "4863e4be",
   "metadata": {},
   "outputs": [
    {
     "data": {
      "text/plain": [
       "[6, 1]"
      ]
     },
     "execution_count": 13,
     "metadata": {},
     "output_type": "execute_result"
    }
   ],
   "source": [
    "number_2[1:3]"
   ]
  },
  {
   "cell_type": "markdown",
   "id": "e6ce23ea",
   "metadata": {},
   "source": [
    "## The pop() removes an element at the specified index from a list. Example:"
   ]
  },
  {
   "cell_type": "code",
   "execution_count": 14,
   "id": "3fb41f69",
   "metadata": {},
   "outputs": [
    {
     "name": "stdout",
     "output_type": "stream",
     "text": [
      "By using pop() I removed number 7\n"
     ]
    }
   ],
   "source": [
    "Removed_element=number_2.pop(3)\n",
    "print(\"By using pop() I removed number\", Removed_element)"
   ]
  },
  {
   "cell_type": "markdown",
   "id": "703c5f1e",
   "metadata": {},
   "source": [
    "## The sorted () takes a list and returns a new list with those elements in sorted order. Example:"
   ]
  },
  {
   "cell_type": "code",
   "execution_count": 17,
   "id": "5fe859aa",
   "metadata": {},
   "outputs": [
    {
     "data": {
      "text/plain": [
       "[2, 6, 1, 5, 3, 4, 7]"
      ]
     },
     "execution_count": 17,
     "metadata": {},
     "output_type": "execute_result"
    }
   ],
   "source": [
    "number_2\n",
    "number_2.append(3)\n",
    "number_2.append(4)\n",
    "number_2.append(7)\n",
    "number_2"
   ]
  },
  {
   "cell_type": "code",
   "execution_count": 18,
   "id": "6087c326",
   "metadata": {},
   "outputs": [
    {
     "data": {
      "text/plain": [
       "[1, 2, 3, 4, 5, 6, 7]"
      ]
     },
     "execution_count": 18,
     "metadata": {},
     "output_type": "execute_result"
    }
   ],
   "source": [
    "sorted(number_2)"
   ]
  },
  {
   "cell_type": "markdown",
   "id": "eaf3307a",
   "metadata": {},
   "source": [
    "## The copy() is used on objects to create copies of them and can be helpful if you want to duplicate a list and change it without changing the original list. Example: "
   ]
  },
  {
   "cell_type": "code",
   "execution_count": 19,
   "id": "18c44848",
   "metadata": {},
   "outputs": [
    {
     "name": "stdout",
     "output_type": "stream",
     "text": [
      "Copied List: ['Taco', 'Chicken', 'Pasta']\n"
     ]
    }
   ],
   "source": [
    "My_favorite_foods=[\"Taco\", \"Chicken\", \"Pasta\"]\n",
    "Freinds_favorite_foods=[\"Pizza\", \"Burger\", \"Salad\"]\n",
    "# Copying the list:\n",
    "Freinds_favorite_foods = My_favorite_foods.copy()\n",
    "print('Copied List:', Freinds_favorite_foods)"
   ]
  },
  {
   "cell_type": "markdown",
   "id": "76b5dd08",
   "metadata": {},
   "source": [
    "## The clear() deletes all elements of from a list. Example: "
   ]
  },
  {
   "cell_type": "code",
   "execution_count": 20,
   "id": "c639acd4",
   "metadata": {},
   "outputs": [
    {
     "data": {
      "text/plain": [
       "[2, 6, 1, 5, 3, 4, 7]"
      ]
     },
     "execution_count": 20,
     "metadata": {},
     "output_type": "execute_result"
    }
   ],
   "source": [
    "number_2"
   ]
  },
  {
   "cell_type": "code",
   "execution_count": 21,
   "id": "bb4b8778",
   "metadata": {},
   "outputs": [
    {
     "name": "stdout",
     "output_type": "stream",
     "text": [
      "[]\n"
     ]
    }
   ],
   "source": [
    "number_2.clear()\n",
    "print(number_2)"
   ]
  },
  {
   "cell_type": "markdown",
   "id": "8cd47996",
   "metadata": {},
   "source": [
    "## The list() creates a list object which is a collection ordered and changeable. Example:"
   ]
  },
  {
   "cell_type": "code",
   "execution_count": 22,
   "id": "fc7177fd",
   "metadata": {},
   "outputs": [
    {
     "data": {
      "text/plain": [
       "list"
      ]
     },
     "execution_count": 22,
     "metadata": {},
     "output_type": "execute_result"
    }
   ],
   "source": [
    "Famous_soccer_players=list()\n",
    "type(Famous_soccer_players)"
   ]
  },
  {
   "cell_type": "code",
   "execution_count": 23,
   "id": "3555840f",
   "metadata": {},
   "outputs": [],
   "source": [
    "Famous_soccer_players.append(\"Lionel Messi\")\n",
    "Famous_soccer_players.append(\"Cristiano Ronaldo\")\n",
    "Famous_soccer_players.append(\"Erling Haaland\")\n",
    "Famous_soccer_players.append(\"Kylian Mbappe\")\n"
   ]
  },
  {
   "cell_type": "code",
   "execution_count": 24,
   "id": "f6381dd8",
   "metadata": {},
   "outputs": [
    {
     "data": {
      "text/plain": [
       "['Lionel Messi', 'Cristiano Ronaldo', 'Erling Haaland', 'Kylian Mbappe']"
      ]
     },
     "execution_count": 24,
     "metadata": {},
     "output_type": "execute_result"
    }
   ],
   "source": [
    "Famous_soccer_players"
   ]
  },
  {
   "cell_type": "markdown",
   "id": "63229a61",
   "metadata": {},
   "source": [
    "## B)"
   ]
  },
  {
   "cell_type": "markdown",
   "id": "01be0146",
   "metadata": {},
   "source": [
    "## The len() shows how many total elements are in the list where element count starts from 1. Example:"
   ]
  },
  {
   "cell_type": "code",
   "execution_count": 26,
   "id": "90e7b5ba",
   "metadata": {},
   "outputs": [
    {
     "data": {
      "text/plain": [
       "[1, 3, 5]"
      ]
     },
     "execution_count": 26,
     "metadata": {},
     "output_type": "execute_result"
    }
   ],
   "source": [
    "number_1"
   ]
  },
  {
   "cell_type": "code",
   "execution_count": 27,
   "id": "9e5189c1",
   "metadata": {},
   "outputs": [
    {
     "data": {
      "text/plain": [
       "3"
      ]
     },
     "execution_count": 27,
     "metadata": {},
     "output_type": "execute_result"
    }
   ],
   "source": [
    "len(number_1)"
   ]
  },
  {
   "cell_type": "markdown",
   "id": "137aae9c",
   "metadata": {},
   "source": [
    "## The min() finds the lowest number and max() the highest number from the list. Example: "
   ]
  },
  {
   "cell_type": "code",
   "execution_count": 28,
   "id": "e9c5bd91",
   "metadata": {},
   "outputs": [
    {
     "data": {
      "text/plain": [
       "1"
      ]
     },
     "execution_count": 28,
     "metadata": {},
     "output_type": "execute_result"
    }
   ],
   "source": [
    "min(number_1)"
   ]
  },
  {
   "cell_type": "code",
   "execution_count": 29,
   "id": "6e0bc40b",
   "metadata": {},
   "outputs": [
    {
     "data": {
      "text/plain": [
       "5"
      ]
     },
     "execution_count": 29,
     "metadata": {},
     "output_type": "execute_result"
    }
   ],
   "source": [
    "max(number_1)"
   ]
  },
  {
   "cell_type": "code",
   "execution_count": null,
   "id": "c2f5a371",
   "metadata": {},
   "outputs": [],
   "source": []
  }
 ],
 "metadata": {
  "kernelspec": {
   "display_name": "Python 3 (ipykernel)",
   "language": "python",
   "name": "python3"
  },
  "language_info": {
   "codemirror_mode": {
    "name": "ipython",
    "version": 3
   },
   "file_extension": ".py",
   "mimetype": "text/x-python",
   "name": "python",
   "nbconvert_exporter": "python",
   "pygments_lexer": "ipython3",
   "version": "3.9.13"
  }
 },
 "nbformat": 4,
 "nbformat_minor": 5
}
